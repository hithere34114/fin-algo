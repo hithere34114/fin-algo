{
 "cells": [
  {
   "cell_type": "code",
   "execution_count": 1,
   "metadata": {
    "collapsed": true,
    "jupyter": {
     "outputs_hidden": true
    }
   },
   "outputs": [],
   "source": [
    "#import the packages \"Pandas\" and \"MatPlotLib\" into Jupyter Notebook\n",
    "import pandas as pd\n",
    "import matplotlib.pyplot as plt\n",
    "%matplotlib inline"
   ]
  },
  {
   "cell_type": "code",
   "execution_count": 2,
   "metadata": {
    "collapsed": true,
    "jupyter": {
     "outputs_hidden": true
    }
   },
   "outputs": [],
   "source": [
    "fb = pd.DataFrame.from_csv('../data/facebook.csv')"
   ]
  },
  {
   "cell_type": "code",
   "execution_count": 4,
   "metadata": {
    "collapsed": true,
    "jupyter": {
     "outputs_hidden": true
    }
   },
   "outputs": [],
   "source": [
    "ms = pd.DataFrame.from_csv('../data/microsoft.csv')"
   ]
  },
  {
   "cell_type": "code",
   "execution_count": 24,
   "metadata": {},
   "outputs": [
    {
     "name": "stdout",
     "output_type": "stream",
     "text": [
      "                 Open       High        Low      Close  Adj Close    Volume\n",
      "Date                                                                       \n",
      "2014-12-31  46.730000  47.439999  46.450001  46.450001  42.848763  21552500\n",
      "2015-01-02  46.660000  47.419998  46.540001  46.759998  43.134731  27913900\n",
      "2015-01-05  46.369999  46.730000  46.250000  46.330002  42.738068  39673900\n",
      "2015-01-06  46.380001  46.750000  45.540001  45.650002  42.110783  36447900\n",
      "2015-01-07  45.980000  46.459999  45.490002  46.230000  42.645817  29114100\n"
     ]
    }
   ],
   "source": [
    "# print head of ms, 1 line\n",
    "print(ms.head())"
   ]
  },
  {
   "cell_type": "markdown",
   "metadata": {},
   "source": [
    "** Expected Output: **"
   ]
  },
  {
   "cell_type": "markdown",
   "metadata": {},
   "source": [
    "<tr>\n",
    "    <th>Date</th>\n",
    "    <th>Open</th>  \n",
    "    <th>High</th>\n",
    "    <th>Low</th>\n",
    "    <th>Close</th>\n",
    "    <th>Adj Close</th>\n",
    "    <th>Volume</th>\n",
    "</tr>\n",
    "<tr>\n",
    "    <td>2014-12-31</td>\n",
    "    <td>46.730000</td>  \n",
    "    <td>47.439999</td>\n",
    "    <td>46.450001</td>\n",
    "    <td>46.450001</td>\n",
    "    <td>42.848763</td>\n",
    "    <td>21552500</td>\n",
    "</tr>\n",
    "<tr>\n",
    "    <td>2015-01-02</td>\n",
    "    <td>46.660000</td>  \n",
    "    <td>47.419998</td>\n",
    "    <td>46.540001</td>\n",
    "    <td>46.759998</td>\n",
    "    <td>43.134731</td>\n",
    "    <td>27913900</td>\n",
    "</tr>\n",
    "<tr>\n",
    "    <td>2015-01-05</td>\n",
    "    <td>46.369999</td>  \n",
    "    <td>46.730000</td>\n",
    "    <td>46.250000</td>\n",
    "    <td>46.330002</td>\n",
    "    <td>42.738068</td>\n",
    "    <td>39673900</td>\n",
    "</tr>\n",
    "<tr>\n",
    "    <td>2015-01-06</td>\n",
    "    <td>46.380001</td>  \n",
    "    <td>46.750000</td>\n",
    "    <td>45.540001</td>\n",
    "    <td>45.650002</td>\n",
    "    <td>42.110783</td>\n",
    "    <td>36447900</td>\n",
    "</tr>\n",
    "<tr>\n",
    "    <td>2015-01-07</td>\n",
    "    <td>45.980000</td>  \n",
    "    <td>46.459999</td>\n",
    "    <td>45.490002</td>\n",
    "    <td>46.230000</td>\n",
    "    <td>42.645817</td>\n",
    "    <td>29114100</td>\n",
    "</tr>\n"
   ]
  },
  {
   "cell_type": "markdown",
   "metadata": {},
   "source": [
    "## Show the size of a DataFrame using \"Shape\""
   ]
  },
  {
   "cell_type": "code",
   "execution_count": 6,
   "metadata": {},
   "outputs": [
    {
     "name": "stdout",
     "output_type": "stream",
     "text": [
      "(780, 6)\n"
     ]
    }
   ],
   "source": [
    "print(fb.shape)"
   ]
  },
  {
   "cell_type": "code",
   "execution_count": 7,
   "metadata": {},
   "outputs": [
    {
     "name": "stdout",
     "output_type": "stream",
     "text": [
      "(780, 6)\n"
     ]
    }
   ],
   "source": [
    "# print the shape of ms, 1 line\n",
    "print(ms.shape)"
   ]
  },
  {
   "cell_type": "markdown",
   "metadata": {},
   "source": [
    "## Show summary statistics of a DataFrame"
   ]
  },
  {
   "cell_type": "code",
   "execution_count": 25,
   "metadata": {},
   "outputs": [
    {
     "name": "stdout",
     "output_type": "stream",
     "text": [
      "<bound method NDFrame.describe of                   Open        High         Low       Close   Adj Close  \\\n",
      "Date                                                                     \n",
      "2014-12-31   20.400000   20.510000   19.990000   20.049999   19.459270   \n",
      "2015-01-02   20.129999   20.280001   19.809999   20.129999   19.536913   \n",
      "2015-01-05   20.129999   20.190001   19.700001   19.790001   19.206934   \n",
      "2015-01-06   19.820000   19.840000   19.170000   19.190001   18.624611   \n",
      "2015-01-07   19.330000   19.500000   19.080000   19.139999   18.576082   \n",
      "2015-01-08   19.360001   19.980000   19.350000   19.860001   19.274870   \n",
      "2015-01-09   19.930000   20.090000   19.660000   19.940001   19.352512   \n",
      "2015-01-12   19.990000   20.000000   19.510000   19.690001   19.109879   \n",
      "2015-01-13   19.840000   20.240000   19.520000   19.660000   19.080761   \n",
      "2015-01-14   19.450001   19.799999   19.400000   19.740000   19.158401   \n",
      "2015-01-15   19.879999   20.000000   19.590000   19.600000   19.022530   \n",
      "2015-01-16   19.570000   19.980000   19.510000   19.959999   19.371923   \n",
      "2015-01-20   20.100000   20.209999   19.770000   20.020000   19.430159   \n",
      "2015-01-21   19.910000   20.350000   19.770000   20.299999   19.701904   \n",
      "2015-01-22   20.340000   20.709999   20.129999   20.650000   20.041594   \n",
      "2015-01-23   20.670000   20.750000   20.500000   20.709999   20.099825   \n",
      "2015-01-26   20.620001   20.719999   20.490000   20.620001   20.012480   \n",
      "2015-01-27   20.299999   20.320000   19.590000   19.629999   19.051643   \n",
      "2015-01-28   19.870001   19.950001   19.299999   19.309999   18.741074   \n",
      "2015-01-29   19.320000   19.889999   19.230000   19.780001   19.197226   \n",
      "2015-01-30   19.639999   19.870001   19.170000   19.200001   18.634314   \n",
      "2015-02-02   19.320000   19.700001   18.940001   19.620001   19.041941   \n",
      "2015-02-03   19.760000   20.129999   19.660000   20.110001   19.517504   \n",
      "2015-02-04   20.049999   20.389999   19.990000   20.160000   19.566031   \n",
      "2015-02-05   20.180000   20.500000   20.160000   20.490000   19.886305   \n",
      "2015-02-06   20.469999   20.709999   20.309999   20.400000   19.798956   \n",
      "2015-02-09   20.280001   20.440001   20.150000   20.379999   19.779549   \n",
      "2015-02-10   20.400000   20.959999   20.309999   20.950001   20.332756   \n",
      "2015-02-11   21.000000   21.000000   20.670000   20.809999   20.196877   \n",
      "2015-02-12   22.000000   22.500000   21.870001   22.299999   21.642979   \n",
      "...                ...         ...         ...         ...         ...   \n",
      "2017-12-21  196.940002  197.949997  195.550003  195.889999  195.889999   \n",
      "2017-12-22  194.399994  195.649994  191.250000  195.270004  195.270004   \n",
      "2017-12-26  193.029999  197.750000  191.820007  197.440002  197.440002   \n",
      "2017-12-27  196.899994  199.970001  196.309998  197.169998  197.169998   \n",
      "2017-12-28  198.130005  199.380005  197.149994  197.399994  197.399994   \n",
      "2017-12-29  198.460007  198.460007  193.500000  193.500000  193.500000   \n",
      "2018-01-02  195.779999  199.500000  194.500000  199.350006  199.350006   \n",
      "2018-01-03  204.100006  213.699997  203.750000  212.470001  212.470001   \n",
      "2018-01-04  215.759995  218.050003  212.690002  213.589996  213.589996   \n",
      "2018-01-05  214.190002  216.910004  211.080002  215.399994  215.399994   \n",
      "2018-01-08  220.399994  225.000000  218.580002  222.000000  222.000000   \n",
      "2018-01-09  222.220001  223.820007  218.639999  221.940002  221.940002   \n",
      "2018-01-10  218.199997  223.820007  216.000000  223.679993  223.679993   \n",
      "2018-01-11  225.000000  226.270004  223.210007  224.080002  224.080002   \n",
      "2018-01-12  223.600006  224.990005  221.339996  222.979996  222.979996   \n",
      "2018-01-16  224.050003  227.509995  216.690002  220.110001  220.110001   \n",
      "2018-01-17  220.699997  225.119995  216.899994  224.720001  224.720001   \n",
      "2018-01-18  223.940002  226.639999  222.679993  224.440002  224.440002   \n",
      "2018-01-19  228.089996  231.089996  227.000000  230.110001  230.110001   \n",
      "2018-01-22  230.429993  233.759995  228.100006  233.690002  233.690002   \n",
      "2018-01-23  235.850006  239.830002  235.100006  238.910004  238.910004   \n",
      "2018-01-24  239.039993  240.490005  233.550003  235.800003  235.800003   \n",
      "2018-01-25  238.000000  239.750000  235.750000  236.350006  236.350006   \n",
      "2018-01-26  238.119995  243.339996  237.600006  243.330002  243.330002   \n",
      "2018-01-29  242.740005  248.110001  240.610001  246.850006  246.850006   \n",
      "2018-01-30  241.110001  246.419998  238.410004  242.720001  242.720001   \n",
      "2018-01-31  245.770004  249.270004  244.449997  245.800003  245.800003   \n",
      "2018-02-01  238.520004  246.899994  238.059998  240.500000  240.500000   \n",
      "2018-02-02  237.000000  237.970001  231.169998  233.520004  233.520004   \n",
      "2018-02-05  227.000000  233.229996  205.000000  213.699997  213.699997   \n",
      "\n",
      "              Volume  \n",
      "Date                  \n",
      "2014-12-31   4157500  \n",
      "2015-01-02   2842000  \n",
      "2015-01-05   4948800  \n",
      "2015-01-06   4944100  \n",
      "2015-01-07   8045200  \n",
      "2015-01-08   7094500  \n",
      "2015-01-09   5238500  \n",
      "2015-01-12   4768300  \n",
      "2015-01-13   5909700  \n",
      "2015-01-14   3881500  \n",
      "2015-01-15   4723300  \n",
      "2015-01-16   4537800  \n",
      "2015-01-20   3487500  \n",
      "2015-01-21   3619500  \n",
      "2015-01-22   3992800  \n",
      "2015-01-23   2976700  \n",
      "2015-01-26   3331000  \n",
      "2015-01-27   8948700  \n",
      "2015-01-28   6818200  \n",
      "2015-01-29   5883500  \n",
      "2015-01-30   7455000  \n",
      "2015-02-02   6490100  \n",
      "2015-02-03   4555300  \n",
      "2015-02-04   4537900  \n",
      "2015-02-05   3511200  \n",
      "2015-02-06   5231900  \n",
      "2015-02-09   6848600  \n",
      "2015-02-10   5655100  \n",
      "2015-02-11   8020800  \n",
      "2015-02-12  16922600  \n",
      "...              ...  \n",
      "2017-12-21   7522600  \n",
      "2017-12-22  11656900  \n",
      "2017-12-26   8877000  \n",
      "2017-12-27   8237200  \n",
      "2017-12-28   6006200  \n",
      "2017-12-29   6999100  \n",
      "2018-01-02   8890400  \n",
      "2018-01-03  22867600  \n",
      "2018-01-04  14581700  \n",
      "2018-01-05  14503100  \n",
      "2018-01-08  22030400  \n",
      "2018-01-09  12425000  \n",
      "2018-01-10  14566600  \n",
      "2018-01-11  10150800  \n",
      "2018-01-12   8997900  \n",
      "2018-01-16  17558700  \n",
      "2018-01-17  13460200  \n",
      "2018-01-18  10215800  \n",
      "2018-01-19  15234500  \n",
      "2018-01-22  13773600  \n",
      "2018-01-23  11880700  \n",
      "2018-01-24  14499300  \n",
      "2018-01-25  10247100  \n",
      "2018-01-26  12908900  \n",
      "2018-01-29  11377900  \n",
      "2018-01-30  14270800  \n",
      "2018-01-31  11964400  \n",
      "2018-02-01  12980600  \n",
      "2018-02-02  17961600  \n",
      "2018-02-05  28869000  \n",
      "\n",
      "[780 rows x 6 columns]>\n"
     ]
    }
   ],
   "source": [
    "# print summary statistics of Facebook\n",
    "print(fb.describe)"
   ]
  },
  {
   "cell_type": "markdown",
   "metadata": {},
   "source": [
    "#### Note the difference between describe vs. describe()"
   ]
  },
  {
   "cell_type": "code",
   "execution_count": 23,
   "metadata": {},
   "outputs": [
    {
     "name": "stdout",
     "output_type": "stream",
     "text": [
      "             Open        High         Low       Close   Adj Close  \\\n",
      "count  780.000000  780.000000  780.000000  780.000000  780.000000   \n",
      "mean    58.912308   59.372308   58.465000   58.945397   56.931553   \n",
      "std     12.852040   12.868060   12.802831   12.830350   13.670080   \n",
      "min     40.340000   40.740002   39.720001   40.290001   37.267815   \n",
      "25%     47.894998   48.295000   47.535001   47.974998   44.792073   \n",
      "50%     56.150002   56.640001   55.700001   56.209999   53.775458   \n",
      "75%     67.892500   68.174997   67.447500   67.740000   66.565508   \n",
      "max     95.139999   96.070000   93.720001   95.010002   94.565781   \n",
      "\n",
      "             Volume  \n",
      "count  7.800000e+02  \n",
      "mean   2.978900e+07  \n",
      "std    1.522319e+07  \n",
      "min    7.425600e+06  \n",
      "25%    2.096685e+07  \n",
      "50%    2.623125e+07  \n",
      "75%    3.408020e+07  \n",
      "max    1.691640e+08  \n"
     ]
    }
   ],
   "source": [
    "# print summary statistics of Microsoft\n",
    "print(ms.describe())"
   ]
  },
  {
   "cell_type": "markdown",
   "metadata": {},
   "source": [
    "## Locate a particular row of data using \"Selection by label\""
   ]
  },
  {
   "cell_type": "code",
   "execution_count": 13,
   "metadata": {
    "collapsed": true,
    "jupyter": {
     "outputs_hidden": true
    }
   },
   "outputs": [],
   "source": [
    "# select all the price information of Facebook in 2016.\n",
    "fb_2015 = fb.loc['2015-01-01':'2015-12-31']"
   ]
  },
  {
   "cell_type": "code",
   "execution_count": 14,
   "metadata": {},
   "outputs": [
    {
     "name": "stdout",
     "output_type": "stream",
     "text": [
      "Open         2.288000e+01\n",
      "High         2.311000e+01\n",
      "Low          2.273000e+01\n",
      "Close        2.297000e+01\n",
      "Adj Close    2.237908e+01\n",
      "Volume       5.923900e+06\n",
      "Name: 2015-03-16 00:00:00, dtype: float64\n"
     ]
    }
   ],
   "source": [
    "# print the price of Facebook on '2015-03-16'\n",
    "print(fb_2015.loc['2015-03-16'])"
   ]
  },
  {
   "cell_type": "code",
   "execution_count": 27,
   "metadata": {
    "collapsed": true,
    "jupyter": {
     "outputs_hidden": true
    }
   },
   "outputs": [],
   "source": [
    "# select all the price information of Microsoft in 2016.\n",
    "ms_2016 = ms.loc['2016-01-01':'2016-12-31']"
   ]
  },
  {
   "cell_type": "code",
   "execution_count": 29,
   "metadata": {},
   "outputs": [
    {
     "name": "stdout",
     "output_type": "stream",
     "text": [
      "Open         5.345000e+01\n",
      "High         5.460000e+01\n",
      "Low          5.340000e+01\n",
      "Close        5.435000e+01\n",
      "Adj Close    5.187095e+01\n",
      "Volume       3.169170e+07\n",
      "Name: 2016-03-16 00:00:00, dtype: float64\n"
     ]
    }
   ],
   "source": [
    "# print the price of Microsoft on '2016-03-16'\n",
    "print(ms_2016.loc[\"2016-03-16\"])"
   ]
  },
  {
   "cell_type": "markdown",
   "metadata": {},
   "source": [
    "** Expected Output: **"
   ]
  },
  {
   "cell_type": "markdown",
   "metadata": {},
   "source": [
    "<tr>\n",
    "    <td>Open</td>\n",
    "    <td>5.345000e+01</td>\n",
    "</tr>\n",
    "<tr>\n",
    "    <td>High</td>\n",
    "    <td>5.460000e+01</td>\n",
    "</tr>\n",
    "<tr>\n",
    "    <td>Low</td>\n",
    "    <td>5.340000e+01</td>\n",
    "</tr>\n",
    "<tr>\n",
    "    <td>Close</td>\n",
    "    <td>5.435000e+01</td>\n",
    "</tr>\n",
    "<tr>\n",
    "    <td>Adj Close</td>\n",
    "    <td>5.187095e+01</td>\n",
    "</tr>\n",
    "<tr>\n",
    "    <td>Volume</td>\n",
    "    <td>3.169170e+07</td>\n",
    "</tr>"
   ]
  },
  {
   "cell_type": "markdown",
   "metadata": {},
   "source": [
    "## Locate a particular row of data using \"Selection by position\""
   ]
  },
  {
   "cell_type": "code",
   "execution_count": 17,
   "metadata": {},
   "outputs": [
    {
     "name": "stdout",
     "output_type": "stream",
     "text": [
      "20.4\n"
     ]
    }
   ],
   "source": [
    "# print the opening price of the first row\n",
    "print(fb.iloc[0, 0])"
   ]
  },
  {
   "cell_type": "code",
   "execution_count": 18,
   "metadata": {},
   "outputs": [
    {
     "name": "stdout",
     "output_type": "stream",
     "text": [
      "46.73\n"
     ]
    }
   ],
   "source": [
    "# print the opening price of the last row\n",
    "print(ms.iloc[0,])"
   ]
  },
  {
   "cell_type": "markdown",
   "metadata": {},
   "source": [
    "** Expected Output: ** 90.559998"
   ]
  },
  {
   "cell_type": "markdown",
   "metadata": {},
   "source": [
    "## Plot the stock data using plot() method"
   ]
  },
  {
   "cell_type": "code",
   "execution_count": 20,
   "metadata": {},
   "outputs": [
    {
     "data": {
      "image/png": "[encoded data removed]",
      "text/plain": [
       "<matplotlib.figure.Figure at 0x7fbc5a982390>"
      ]
     },
     "metadata": {},
     "output_type": "display_data"
    }
   ],
   "source": [
    "plt.figure(figsize=(10, 8))\n",
    "fb['Close'].plot()\n",
    "plt.show()"
   ]
  },
  {
   "cell_type": "code",
   "execution_count": 19,
   "metadata": {},
   "outputs": [
    {
     "data": {
      "text/plain": [
       "<matplotlib.axes._subplots.AxesSubplot at 0x7fbc5a9cb9b0>"
      ]
     },
     "execution_count": 19,
     "metadata": {},
     "output_type": "execute_result"
    },
    {
     "data": {
      "image/png": "[encoded data removed]",
      "text/plain": [
       "<matplotlib.figure.Figure at 0x7fbc5a9cb048>"
      ]
     },
     "metadata": {},
     "output_type": "display_data"
    }
   ],
   "source": [
    "plt.figure(figsize=(10, 8))\n",
    "# plot only the Close price of 2016 of Microsoft, 1 line \n",
    "ms['Close'].plot()"
   ]
  },
  {
   "cell_type": "markdown",
   "metadata": {},
   "source": [
    "** Expected Ouput: **"
   ]
  },
  {
   "cell_type": "markdown",
   "metadata": {},
   "source": [
    "<img src=\"MS2016.png\">"
   ]
  }
 ],
 "metadata": {
  "kernelspec": {
   "display_name": "Python 3",
   "language": "python",
   "name": "python3"
  },
  "language_info": {
   "codemirror_mode": {
    "name": "ipython",
    "version": 3
   },
   "file_extension": ".py",
   "mimetype": "text/x-python",
   "name": "python",
   "nbconvert_exporter": "python",
   "pygments_lexer": "ipython3",
   "version": "3.8.3"
  }
 },
 "nbformat": 4,
 "nbformat_minor": 4
}
