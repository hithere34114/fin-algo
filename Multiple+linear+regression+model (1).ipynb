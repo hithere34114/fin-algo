{
 "cells": [
  {
   "cell_type": "code",
   "execution_count": 2,
   "metadata": {
    "collapsed": true,
    "jupyter": {
     "outputs_hidden": true
    }
   },
   "outputs": [],
   "source": [
    "import pandas as pd\n",
    "import statsmodels.formula.api as smf\n",
    "import numpy as np\n",
    "import matplotlib.pyplot as plt\n",
    "%matplotlib inline"
   ]
  },
  {
   "cell_type": "markdown",
   "metadata": {},
   "source": [
    "# Multiple linear regression model\n",
    "### Let's mimic the process of building our trading model of SPY, base on the historical data of different stock markets\n",
    "1. Response=open mkt priceo SPY tomorrow-mkt price today\n",
    "2. 3 groups of predictors 9total(see data munging):\n",
    "1day lag prices usmkt,1day lag_starting at noon est if have intraday data_for european mkts, 1 day prices asian mkts"
   ]
  },
  {
   "cell_type": "code",
   "execution_count": 3,
   "metadata": {
    "collapsed": true,
    "jupyter": {
     "outputs_hidden": true
    }
   },
   "outputs": [],
   "source": [
    "import warnings\n",
    "warnings.filterwarnings(\"ignore\")"
   ]
  },
  {
   "cell_type": "code",
   "execution_count": 4,
   "metadata": {
    "collapsed": true,
    "jupyter": {
     "outputs_hidden": true
    }
   },
   "outputs": [],
   "source": [
    "# import all stock market data into DataFrame\n",
    "## We can see that the regression model (MEDV~LSTAT) violates all four assumptions. Therefore, we cannot make statistical inference using this model.\n",
    "aord = pd.DataFrame.from_csv('../data/indice/ALLOrdinary.csv')\n",
    "nikkei = pd.DataFrame.from_csv('../data/indice/Nikkei225.csv')\n",
    "hsi = pd.DataFrame.from_csv('../data/indice/HSI.csv')\n",
    "daxi = pd.DataFrame.from_csv('../data/indice/DAXI.csv')\n",
    "cac40 = pd.DataFrame.from_csv('../data/indice/CAC40.csv')\n",
    "sp500 = pd.DataFrame.from_csv('../data/indice/SP500.csv')\n",
    "dji = pd.DataFrame.from_csv('../data/indice/DJI.csv')\n",
    "nasdaq = pd.DataFrame.from_csv('../data/indice/nasdaq_composite.csv')\n",
    "spy = pd.DataFrame.from_csv('../data/indice/SPY.csv')"
   ]
  },
  {
   "cell_type": "code",
   "execution_count": 9,
   "metadata": {},
   "outputs": [
    {
     "data": {
      "text/html": [
       "<div>\n",
       "<table border=\"1\" class=\"dataframe\">\n",
       "  <thead>\n",
       "    <tr style=\"text-align: right;\">\n",
       "      <th></th>\n",
       "      <th>Open</th>\n",
       "      <th>High</th>\n",
       "      <th>Low</th>\n",
       "      <th>Close</th>\n",
       "      <th>Adj Close</th>\n",
       "      <th>Volume</th>\n",
       "    </tr>\n",
       "    <tr>\n",
       "      <th>Date</th>\n",
       "      <th></th>\n",
       "      <th></th>\n",
       "      <th></th>\n",
       "      <th></th>\n",
       "      <th></th>\n",
       "      <th></th>\n",
       "    </tr>\n",
       "  </thead>\n",
       "  <tbody>\n",
       "    <tr>\n",
       "      <th>2008-01-02</th>\n",
       "      <td>146.529999</td>\n",
       "      <td>146.990005</td>\n",
       "      <td>143.880005</td>\n",
       "      <td>144.929993</td>\n",
       "      <td>116.593864</td>\n",
       "      <td>204935600</td>\n",
       "    </tr>\n",
       "    <tr>\n",
       "      <th>2008-01-03</th>\n",
       "      <td>144.910004</td>\n",
       "      <td>145.490005</td>\n",
       "      <td>144.070007</td>\n",
       "      <td>144.860001</td>\n",
       "      <td>116.537567</td>\n",
       "      <td>125133300</td>\n",
       "    </tr>\n",
       "    <tr>\n",
       "      <th>2008-01-04</th>\n",
       "      <td>143.339996</td>\n",
       "      <td>143.440002</td>\n",
       "      <td>140.910004</td>\n",
       "      <td>141.309998</td>\n",
       "      <td>113.681671</td>\n",
       "      <td>232330900</td>\n",
       "    </tr>\n",
       "    <tr>\n",
       "      <th>2008-01-07</th>\n",
       "      <td>141.809998</td>\n",
       "      <td>142.229996</td>\n",
       "      <td>140.100006</td>\n",
       "      <td>141.190002</td>\n",
       "      <td>113.585121</td>\n",
       "      <td>234991000</td>\n",
       "    </tr>\n",
       "    <tr>\n",
       "      <th>2008-01-08</th>\n",
       "      <td>142.080002</td>\n",
       "      <td>142.899994</td>\n",
       "      <td>138.440002</td>\n",
       "      <td>138.910004</td>\n",
       "      <td>111.750923</td>\n",
       "      <td>326365700</td>\n",
       "    </tr>\n",
       "  </tbody>\n",
       "</table>\n",
       "</div>"
      ],
      "text/plain": [
       "                  Open        High         Low       Close   Adj Close  \\\n",
       "Date                                                                     \n",
       "2008-01-02  146.529999  146.990005  143.880005  144.929993  116.593864   \n",
       "2008-01-03  144.910004  145.490005  144.070007  144.860001  116.537567   \n",
       "2008-01-04  143.339996  143.440002  140.910004  141.309998  113.681671   \n",
       "2008-01-07  141.809998  142.229996  140.100006  141.190002  113.585121   \n",
       "2008-01-08  142.080002  142.899994  138.440002  138.910004  111.750923   \n",
       "\n",
       "               Volume  \n",
       "Date                   \n",
       "2008-01-02  204935600  \n",
       "2008-01-03  125133300  \n",
       "2008-01-04  232330900  \n",
       "2008-01-07  234991000  \n",
       "2008-01-08  326365700  "
      ]
     },
     "execution_count": 9,
     "metadata": {},
     "output_type": "execute_result"
    }
   ],
   "source": [
    "#be sure all ata has same coulmns,etc  \n",
    "spy.head()"
   ]
  },
  {
   "cell_type": "code",
   "execution_count": 6,
   "metadata": {},
   "outputs": [
    {
     "data": {
      "text/html": [
       "<div>\n",
       "<table border=\"1\" class=\"dataframe\">\n",
       "  <thead>\n",
       "    <tr style=\"text-align: right;\">\n",
       "      <th></th>\n",
       "      <th>Open</th>\n",
       "      <th>High</th>\n",
       "      <th>Low</th>\n",
       "      <th>Close</th>\n",
       "      <th>Adj Close</th>\n",
       "      <th>Volume</th>\n",
       "    </tr>\n",
       "    <tr>\n",
       "      <th>Date</th>\n",
       "      <th></th>\n",
       "      <th></th>\n",
       "      <th></th>\n",
       "      <th></th>\n",
       "      <th></th>\n",
       "      <th></th>\n",
       "    </tr>\n",
       "  </thead>\n",
       "  <tbody>\n",
       "    <tr>\n",
       "      <th>2008-01-02</th>\n",
       "      <td>8045.970215</td>\n",
       "      <td>8100.640137</td>\n",
       "      <td>7925.109863</td>\n",
       "      <td>7949.109863</td>\n",
       "      <td>7949.109863</td>\n",
       "      <td>110721200.0</td>\n",
       "    </tr>\n",
       "    <tr>\n",
       "      <th>2008-01-03</th>\n",
       "      <td>7941.520020</td>\n",
       "      <td>7969.899902</td>\n",
       "      <td>7858.390137</td>\n",
       "      <td>7908.410156</td>\n",
       "      <td>7908.410156</td>\n",
       "      <td>128154400.0</td>\n",
       "    </tr>\n",
       "    <tr>\n",
       "      <th>2008-01-04</th>\n",
       "      <td>7913.529785</td>\n",
       "      <td>7914.700195</td>\n",
       "      <td>7780.270020</td>\n",
       "      <td>7808.689941</td>\n",
       "      <td>7808.689941</td>\n",
       "      <td>180875100.0</td>\n",
       "    </tr>\n",
       "    <tr>\n",
       "      <th>2008-01-07</th>\n",
       "      <td>7810.819824</td>\n",
       "      <td>7858.640137</td>\n",
       "      <td>7781.680176</td>\n",
       "      <td>7817.169922</td>\n",
       "      <td>7817.169922</td>\n",
       "      <td>188030700.0</td>\n",
       "    </tr>\n",
       "    <tr>\n",
       "      <th>2008-01-08</th>\n",
       "      <td>7844.500000</td>\n",
       "      <td>7923.439941</td>\n",
       "      <td>7831.509766</td>\n",
       "      <td>7849.990234</td>\n",
       "      <td>7849.990234</td>\n",
       "      <td>186940800.0</td>\n",
       "    </tr>\n",
       "  </tbody>\n",
       "</table>\n",
       "</div>"
      ],
      "text/plain": [
       "                   Open         High          Low        Close    Adj Close  \\\n",
       "Date                                                                          \n",
       "2008-01-02  8045.970215  8100.640137  7925.109863  7949.109863  7949.109863   \n",
       "2008-01-03  7941.520020  7969.899902  7858.390137  7908.410156  7908.410156   \n",
       "2008-01-04  7913.529785  7914.700195  7780.270020  7808.689941  7808.689941   \n",
       "2008-01-07  7810.819824  7858.640137  7781.680176  7817.169922  7817.169922   \n",
       "2008-01-08  7844.500000  7923.439941  7831.509766  7849.990234  7849.990234   \n",
       "\n",
       "                 Volume  \n",
       "Date                     \n",
       "2008-01-02  110721200.0  \n",
       "2008-01-03  128154400.0  \n",
       "2008-01-04  180875100.0  \n",
       "2008-01-07  188030700.0  \n",
       "2008-01-08  186940800.0  "
      ]
     },
     "execution_count": 6,
     "metadata": {},
     "output_type": "execute_result"
    }
   ],
   "source": [
    "cac40.head()"
   ]
  },
  {
   "cell_type": "markdown",
   "metadata": {},
   "source": [
    "## Step 1: Data Munging"
   ]
  },
  {
   "cell_type": "code",
   "execution_count": 6,
   "metadata": {},
   "outputs": [],
   "source": [
    "# Due to the timezone issues, we extract and calculate appropriate stock market data for analysis\n",
    "# first create empty df w index=index of spy\n",
    "# this Indicepanel is the DataFrame of our trading model\n",
    "indicepanel=pd.DataFrame(index=spy.index)\n",
    "#then calculate all response and predictors:\n",
    "#response\n",
    "indicepanel['spy']=spy['Open'].shift(-1)-spy['Open']\n",
    "#lag us mkts\n",
    "indicepanel['spy_lag1']=indicepanel['spy'].shift(1)\n",
    "indicepanel['sp500']=sp500['Open']-sp500['Open'].shift(1)\n",
    "indicepanel['nasdaq']=nasdaq['Open']-nasdaq['Open'].shift(1)\n",
    "indicepanel['dji']=dji['Open']-dji['Open'].shift(1)\n",
    "#lag eu mkts\n",
    "indicepanel['cac40']=cac40['Open']-cac40['Open'].shift(1)\n",
    "indicepanel['daxi']=daxi['Open']-daxi['Open'].shift(1)\n",
    "#asian mkts\n",
    "indicepanel['aord']=aord['Close']-aord['Open']\n",
    "indicepanel['hsi']=hsi['Close']-hsi['Open']\n",
    "indicepanel['nikkei']=nikkei['Close']-nikkei['Open']\n",
    "#spy open price to use later\n",
    "indicepanel['Price']=spy['Open']"
   ]
  },
  {
   "cell_type": "code",
   "execution_count": 7,
   "metadata": {},
   "outputs": [
    {
     "data": {
      "text/html": [
       "<div>\n",
       "<table border=\"1\" class=\"dataframe\">\n",
       "  <thead>\n",
       "    <tr style=\"text-align: right;\">\n",
       "      <th></th>\n",
       "      <th>spy</th>\n",
       "      <th>spy_lag1</th>\n",
       "      <th>sp500</th>\n",
       "      <th>nasdaq</th>\n",
       "      <th>dji</th>\n",
       "      <th>cac40</th>\n",
       "      <th>daxi</th>\n",
       "      <th>aord</th>\n",
       "      <th>hsi</th>\n",
       "      <th>nikkei</th>\n",
       "      <th>Price</th>\n",
       "    </tr>\n",
       "    <tr>\n",
       "      <th>Date</th>\n",
       "      <th></th>\n",
       "      <th></th>\n",
       "      <th></th>\n",
       "      <th></th>\n",
       "      <th></th>\n",
       "      <th></th>\n",
       "      <th></th>\n",
       "      <th></th>\n",
       "      <th></th>\n",
       "      <th></th>\n",
       "      <th></th>\n",
       "    </tr>\n",
       "  </thead>\n",
       "  <tbody>\n",
       "    <tr>\n",
       "      <th>2018-08-15</th>\n",
       "      <td>1.019989</td>\n",
       "      <td>-0.540008</td>\n",
       "      <td>0.070068</td>\n",
       "      <td>-37.859863</td>\n",
       "      <td>19.67969</td>\n",
       "      <td>-22.680176</td>\n",
       "      <td>-44.360352</td>\n",
       "      <td>29.500000</td>\n",
       "      <td>-401.130859</td>\n",
       "      <td>-163.898438</td>\n",
       "      <td>282.380005</td>\n",
       "    </tr>\n",
       "    <tr>\n",
       "      <th>2018-08-16</th>\n",
       "      <td>0.429993</td>\n",
       "      <td>1.019989</td>\n",
       "      <td>3.489990</td>\n",
       "      <td>16.930175</td>\n",
       "      <td>59.60156</td>\n",
       "      <td>-88.580078</td>\n",
       "      <td>-198.139648</td>\n",
       "      <td>-3.100097</td>\n",
       "      <td>228.951172</td>\n",
       "      <td>211.218750</td>\n",
       "      <td>283.399994</td>\n",
       "    </tr>\n",
       "    <tr>\n",
       "      <th>2018-08-17</th>\n",
       "      <td>1.740020</td>\n",
       "      <td>0.429993</td>\n",
       "      <td>6.880127</td>\n",
       "      <td>-40.310058</td>\n",
       "      <td>255.83008</td>\n",
       "      <td>30.320312</td>\n",
       "      <td>39.929687</td>\n",
       "      <td>13.600097</td>\n",
       "      <td>-175.160157</td>\n",
       "      <td>-42.808594</td>\n",
       "      <td>283.829987</td>\n",
       "    </tr>\n",
       "    <tr>\n",
       "      <th>2018-08-20</th>\n",
       "      <td>0.679993</td>\n",
       "      <td>1.740020</td>\n",
       "      <td>15.609864</td>\n",
       "      <td>47.729980</td>\n",
       "      <td>176.89844</td>\n",
       "      <td>5.879883</td>\n",
       "      <td>20.950196</td>\n",
       "      <td>9.300293</td>\n",
       "      <td>324.240234</td>\n",
       "      <td>-68.070313</td>\n",
       "      <td>285.570007</td>\n",
       "    </tr>\n",
       "    <tr>\n",
       "      <th>2018-08-21</th>\n",
       "      <td>NaN</td>\n",
       "      <td>0.679993</td>\n",
       "      <td>7.580078</td>\n",
       "      <td>5.719727</td>\n",
       "      <td>59.29101</td>\n",
       "      <td>9.649903</td>\n",
       "      <td>57.549804</td>\n",
       "      <td>-52.100098</td>\n",
       "      <td>82.250000</td>\n",
       "      <td>109.191406</td>\n",
       "      <td>286.250000</td>\n",
       "    </tr>\n",
       "  </tbody>\n",
       "</table>\n",
       "</div>"
      ],
      "text/plain": [
       "                 spy  spy_lag1      sp500     nasdaq        dji      cac40  \\\n",
       "Date                                                                         \n",
       "2018-08-15  1.019989 -0.540008   0.070068 -37.859863   19.67969 -22.680176   \n",
       "2018-08-16  0.429993  1.019989   3.489990  16.930175   59.60156 -88.580078   \n",
       "2018-08-17  1.740020  0.429993   6.880127 -40.310058  255.83008  30.320312   \n",
       "2018-08-20  0.679993  1.740020  15.609864  47.729980  176.89844   5.879883   \n",
       "2018-08-21       NaN  0.679993   7.580078   5.719727   59.29101   9.649903   \n",
       "\n",
       "                  daxi       aord         hsi      nikkei       Price  \n",
       "Date                                                                   \n",
       "2018-08-15  -44.360352  29.500000 -401.130859 -163.898438  282.380005  \n",
       "2018-08-16 -198.139648  -3.100097  228.951172  211.218750  283.399994  \n",
       "2018-08-17   39.929687  13.600097 -175.160157  -42.808594  283.829987  \n",
       "2018-08-20   20.950196   9.300293  324.240234  -68.070313  285.570007  \n",
       "2018-08-21   57.549804 -52.100098   82.250000  109.191406  286.250000  "
      ]
     },
     "execution_count": 7,
     "metadata": {},
     "output_type": "execute_result"
    }
   ],
   "source": [
    "indicepanel.tail(5)\n",
    "#our model"
   ]
  },
  {
   "cell_type": "code",
   "execution_count": 8,
   "metadata": {},
   "outputs": [
    {
     "data": {
      "text/plain": [
       "spy           1\n",
       "spy_lag1      1\n",
       "sp500         1\n",
       "nasdaq        1\n",
       "dji           1\n",
       "cac40        30\n",
       "daxi         53\n",
       "aord        319\n",
       "hsi         121\n",
       "nikkei      145\n",
       "Price         0\n",
       "dtype: int64"
      ]
     },
     "execution_count": 8,
     "metadata": {},
     "output_type": "execute_result"
    }
   ],
   "source": [
    "# Lets check whether do we have NaN values in indicepanel\n",
    "indicepanel.isnull().sum()"
   ]
  },
  {
   "cell_type": "code",
   "execution_count": 9,
   "metadata": {
    "collapsed": true,
    "jupyter": {
     "outputs_hidden": true
    }
   },
   "outputs": [],
   "source": [
    "#diffmkts have diff holidays,weekends,etc     \n",
    "#We can use method 'fillna()' from dataframe to forward filling the Nan values\n",
    "# Then we can drop the reminding Nan values\n",
    "indicepanel = indicepanel.fillna(method='ffill')\n",
    "indicepanel = indicepanel.dropna()"
   ]
  },
  {
   "cell_type": "code",
   "execution_count": 10,
   "metadata": {},
   "outputs": [
    {
     "data": {
      "text/plain": [
       "spy         0\n",
       "spy_lag1    0\n",
       "sp500       0\n",
       "nasdaq      0\n",
       "dji         0\n",
       "cac40       0\n",
       "daxi        0\n",
       "aord        0\n",
       "hsi         0\n",
       "nikkei      0\n",
       "Price       0\n",
       "dtype: int64"
      ]
     },
     "execution_count": 10,
     "metadata": {},
     "output_type": "execute_result"
    }
   ],
   "source": [
    "# Lets check whether do we have Nan values in indicepanel now\n",
    "indicepanel.isnull().sum()"
   ]
  },
  {
   "cell_type": "code",
   "execution_count": 11,
   "metadata": {
    "collapsed": true,
    "jupyter": {
     "outputs_hidden": true
    }
   },
   "outputs": [],
   "source": [
    "# save this indicepanel for part 4.5\n",
    "path_save = '../data/indicepanel.csv'\n",
    "indicepanel.to_csv(path_save)"
   ]
  },
  {
   "cell_type": "code",
   "execution_count": 12,
   "metadata": {},
   "outputs": [
    {
     "name": "stdout",
     "output_type": "stream",
     "text": [
      "(2677, 11)\n"
     ]
    }
   ],
   "source": [
    "#2677 days of data, 11=9parameters+1response+1open of spy\n",
    "print(indicepanel.shape)"
   ]
  },
  {
   "cell_type": "markdown",
   "metadata": {},
   "source": [
    "## Step 2: Data Spliting"
   ]
  },
  {
   "cell_type": "code",
   "execution_count": null,
   "metadata": {},
   "outputs": [],
   "source": [
    "#split the data into (1)train set and (2)test set\n",
    "#use = size data since stocks are very noisy\n",
    "#use 1000 days before to current for test and 1000 days before that to trrain\n",
    "Train = indicepanel.iloc[-2000:-1000, :]\n",
    "Test = indicepanel.iloc[-1000:, :]\n",
    "print(Train.shape, Test.shape)"
   ]
  },
  {
   "cell_type": "markdown",
   "metadata": {},
   "source": [
    "## Step 3: Explore the train data set"
   ]
  },
  {
   "cell_type": "code",
   "execution_count": null,
   "metadata": {
    "scrolled": true
   },
   "outputs": [],
   "source": [
    "# Generate scatter matrix among all stock markets (and the price of SPY) \n",
    "#to observe the associations..lots of noise\n",
    "from pandas.tools.plotting import scatter_matrix\n",
    "sm = scatter_matrix(Train, figsize=(10, 10))"
   ]
  },
  {
   "cell_type": "markdown",
   "metadata": {},
   "source": [
    "## Step 4: Check the correlation of each index between spy"
   ]
  },
  {
   "cell_type": "code",
   "execution_count": 19,
   "metadata": {},
   "outputs": [
    {
     "name": "stdout",
     "output_type": "stream",
     "text": [
      "spy         1.000000\n",
      "spy_lag1   -0.011623\n",
      "sp500      -0.018632\n",
      "nasdaq      0.012333\n",
      "dji        -0.037097\n",
      "cac40      -0.055304\n",
      "daxi       -0.069735\n",
      "aord        0.179638\n",
      "hsi         0.031400\n",
      "nikkei     -0.035048\n",
      "Name: spy, dtype: float64\n"
     ]
    }
   ],
   "source": [
    "# Find the indice with largest correlation\n",
    "corr_array = Train.iloc[:, :-1].corr()['spy']\n",
    "print(corr_array)\n",
    "#europe and asian mkts highly correlated vs us stocksw spy"
   ]
  },
  {
   "cell_type": "code",
   "execution_count": 22,
   "metadata": {
    "scrolled": true
   },
   "outputs": [
    {
     "data": {
      "text/html": [
       "<table class=\"simpletable\">\n",
       "<caption>OLS Regression Results</caption>\n",
       "<tr>\n",
       "  <th>Dep. Variable:</th>           <td>spy</td>       <th>  R-squared:         </th> <td>   0.067</td>\n",
       "</tr>\n",
       "<tr>\n",
       "  <th>Model:</th>                   <td>OLS</td>       <th>  Adj. R-squared:    </th> <td>   0.059</td>\n",
       "</tr>\n",
       "<tr>\n",
       "  <th>Method:</th>             <td>Least Squares</td>  <th>  F-statistic:       </th> <td>   7.962</td>\n",
       "</tr>\n",
       "<tr>\n",
       "  <th>Date:</th>             <td>Thu, 30 Jul 2020</td> <th>  Prob (F-statistic):</th> <td>1.97e-11</td>\n",
       "</tr>\n",
       "<tr>\n",
       "  <th>Time:</th>                 <td>00:31:34</td>     <th>  Log-Likelihood:    </th> <td> -1617.7</td>\n",
       "</tr>\n",
       "<tr>\n",
       "  <th>No. Observations:</th>      <td>  1000</td>      <th>  AIC:               </th> <td>   3255.</td>\n",
       "</tr>\n",
       "<tr>\n",
       "  <th>Df Residuals:</th>          <td>   990</td>      <th>  BIC:               </th> <td>   3305.</td>\n",
       "</tr>\n",
       "<tr>\n",
       "  <th>Df Model:</th>              <td>     9</td>      <th>                     </th>     <td> </td>   \n",
       "</tr>\n",
       "<tr>\n",
       "  <th>Covariance Type:</th>      <td>nonrobust</td>    <th>                     </th>     <td> </td>   \n",
       "</tr>\n",
       "</table>\n",
       "<table class=\"simpletable\">\n",
       "<tr>\n",
       "      <td></td>         <th>coef</th>     <th>std err</th>      <th>t</th>      <th>P>|t|</th>  <th>[0.025</th>    <th>0.975]</th>  \n",
       "</tr>\n",
       "<tr>\n",
       "  <th>Intercept</th> <td>    0.0836</td> <td>    0.039</td> <td>    2.138</td> <td> 0.033</td> <td>    0.007</td> <td>    0.160</td>\n",
       "</tr>\n",
       "<tr>\n",
       "  <th>spy_lag1</th>  <td>   -0.1567</td> <td>    0.091</td> <td>   -1.730</td> <td> 0.084</td> <td>   -0.335</td> <td>    0.021</td>\n",
       "</tr>\n",
       "<tr>\n",
       "  <th>sp500</th>     <td>    0.0221</td> <td>    0.014</td> <td>    1.621</td> <td> 0.105</td> <td>   -0.005</td> <td>    0.049</td>\n",
       "</tr>\n",
       "<tr>\n",
       "  <th>nasdaq</th>    <td>    0.0040</td> <td>    0.004</td> <td>    1.066</td> <td> 0.287</td> <td>   -0.003</td> <td>    0.011</td>\n",
       "</tr>\n",
       "<tr>\n",
       "  <th>dji</th>       <td>   -0.0018</td> <td>    0.001</td> <td>   -1.248</td> <td> 0.212</td> <td>   -0.005</td> <td>    0.001</td>\n",
       "</tr>\n",
       "<tr>\n",
       "  <th>cac40</th>     <td>   -0.0003</td> <td>    0.002</td> <td>   -0.153</td> <td> 0.879</td> <td>   -0.004</td> <td>    0.004</td>\n",
       "</tr>\n",
       "<tr>\n",
       "  <th>aord</th>      <td>    0.0093</td> <td>    0.001</td> <td>    7.492</td> <td> 0.000</td> <td>    0.007</td> <td>    0.012</td>\n",
       "</tr>\n",
       "<tr>\n",
       "  <th>daxi</th>      <td>   -0.0025</td> <td>    0.001</td> <td>   -2.387</td> <td> 0.017</td> <td>   -0.005</td> <td>   -0.000</td>\n",
       "</tr>\n",
       "<tr>\n",
       "  <th>nikkei</th>    <td>   -0.0004</td> <td>    0.000</td> <td>   -1.264</td> <td> 0.207</td> <td>   -0.001</td> <td>    0.000</td>\n",
       "</tr>\n",
       "<tr>\n",
       "  <th>hsi</th>       <td>    0.0003</td> <td>    0.000</td> <td>    1.222</td> <td> 0.222</td> <td>   -0.000</td> <td>    0.001</td>\n",
       "</tr>\n",
       "</table>\n",
       "<table class=\"simpletable\">\n",
       "<tr>\n",
       "  <th>Omnibus:</th>       <td>91.018</td> <th>  Durbin-Watson:     </th> <td>   2.015</td>\n",
       "</tr>\n",
       "<tr>\n",
       "  <th>Prob(Omnibus):</th> <td> 0.000</td> <th>  Jarque-Bera (JB):  </th> <td> 267.687</td>\n",
       "</tr>\n",
       "<tr>\n",
       "  <th>Skew:</th>          <td>-0.450</td> <th>  Prob(JB):          </th> <td>7.45e-59</td>\n",
       "</tr>\n",
       "<tr>\n",
       "  <th>Kurtosis:</th>      <td> 5.369</td> <th>  Cond. No.          </th> <td>    405.</td>\n",
       "</tr>\n",
       "</table><br/><br/>Warnings:<br/>[1] Standard Errors assume that the covariance matrix of the errors is correctly specified."
      ],
      "text/plain": [
       "<class 'statsmodels.iolib.summary.Summary'>\n",
       "\"\"\"\n",
       "                            OLS Regression Results                            \n",
       "==============================================================================\n",
       "Dep. Variable:                    spy   R-squared:                       0.067\n",
       "Model:                            OLS   Adj. R-squared:                  0.059\n",
       "Method:                 Least Squares   F-statistic:                     7.962\n",
       "Date:                Thu, 30 Jul 2020   Prob (F-statistic):           1.97e-11\n",
       "Time:                        00:31:34   Log-Likelihood:                -1617.7\n",
       "No. Observations:                1000   AIC:                             3255.\n",
       "Df Residuals:                     990   BIC:                             3305.\n",
       "Df Model:                           9                                         \n",
       "Covariance Type:            nonrobust                                         \n",
       "==============================================================================\n",
       "                 coef    std err          t      P>|t|      [0.025      0.975]\n",
       "------------------------------------------------------------------------------\n",
       "Intercept      0.0836      0.039      2.138      0.033       0.007       0.160\n",
       "spy_lag1      -0.1567      0.091     -1.730      0.084      -0.335       0.021\n",
       "sp500          0.0221      0.014      1.621      0.105      -0.005       0.049\n",
       "nasdaq         0.0040      0.004      1.066      0.287      -0.003       0.011\n",
       "dji           -0.0018      0.001     -1.248      0.212      -0.005       0.001\n",
       "cac40         -0.0003      0.002     -0.153      0.879      -0.004       0.004\n",
       "aord           0.0093      0.001      7.492      0.000       0.007       0.012\n",
       "daxi          -0.0025      0.001     -2.387      0.017      -0.005      -0.000\n",
       "nikkei        -0.0004      0.000     -1.264      0.207      -0.001       0.000\n",
       "hsi            0.0003      0.000      1.222      0.222      -0.000       0.001\n",
       "==============================================================================\n",
       "Omnibus:                       91.018   Durbin-Watson:                   2.015\n",
       "Prob(Omnibus):                  0.000   Jarque-Bera (JB):              267.687\n",
       "Skew:                          -0.450   Prob(JB):                     7.45e-59\n",
       "Kurtosis:                       5.369   Cond. No.                         405.\n",
       "==============================================================================\n",
       "\n",
       "Warnings:\n",
       "[1] Standard Errors assume that the covariance matrix of the errors is correctly specified.\n",
       "\"\"\""
      ]
     },
     "execution_count": 22,
     "metadata": {},
     "output_type": "execute_result"
    }
   ],
   "source": [
    "#Calc Least mean squared fromStats\n",
    "#look at p values of f test to test significance of model\n",
    "formula = 'spy~spy_lag1+sp500+nasdaq+dji+cac40+aord+daxi+nikkei+hsi'\n",
    "lm = smf.ols(formula=formula, data=Train).fit()\n",
    "lm.summary()\n",
    "#p value of ftest= .0000000000697<.05 =overall significance of model at 5%error raTe\n",
    "#Ho  is rejected, aka all parameters not =0 , so atleast1 of the predictors in our model is significant \n",
    "#now look at individual predictors p tests...\n",
    "#Aaord is =0 thus null is accepted, aka this predictor has multicollinearity w other variable "
   ]
  },
  {
   "cell_type": "markdown",
   "metadata": {},
   "source": [
    "## Step 5: Make prediction"
   ]
  },
  {
   "cell_type": "code",
   "execution_count": 23,
   "metadata": {
    "collapsed": true,
    "jupyter": {
     "outputs_hidden": true
    }
   },
   "outputs": [],
   "source": [
    "#predict on Spy for our model train and test\n",
    "Train['PredictedY'] = lm.predict(Train)\n",
    "Test['PredictedY'] = lm.predict(Test)"
   ]
  },
  {
   "cell_type": "code",
   "execution_count": 61,
   "metadata": {},
   "outputs": [
    {
     "data": {
      "text/plain": [
       "<matplotlib.collections.PathCollection at 0x7fda3af1ce80>"
      ]
     },
     "execution_count": 61,
     "metadata": {},
     "output_type": "execute_result"
    },
    {
     "data": {
      "image/png": "[encoded data removed]",
      "text/plain": [
       "<matplotlib.figure.Figure at 0x7fda3a74f278>"
      ]
     },
     "metadata": {},
     "output_type": "display_data"
    }
   ],
   "source": [
    "#looking 4a linear relationship__ours=daily chage thus itsnnot too bad\n",
    "plt.scatter(Train['spy'], Train['PredictedY'])"
   ]
  },
  {
   "cell_type": "markdown",
   "metadata": {},
   "source": [
    "## Step 6: Model evaluation - Statistical standard"
   ]
  },
  {
   "cell_type": "markdown",
   "metadata": {},
   "source": [
    "We can measure the performance of our model using some statistical metrics - **RMSE=measures prediction error (sqr rt of sum of square errors avged by degree of freedom) **, **Adjusted $R^2$=%of variation  that can b explained by the model **"
   ]
  },
  {
   "cell_type": "code",
   "execution_count": 62,
   "metadata": {
    "collapsed": true,
    "jupyter": {
     "outputs_hidden": true
    }
   },
   "outputs": [],
   "source": [
    "# calculates RMSE - Root Mean Squared Error &Adjusted R^2\n",
    "#note k isnumber of predictors y is coulun name of our response variable \n",
    "def adjustedMetric(data, model, model_k, yname):\n",
    "    data['yhat'] = model.predict(data)\n",
    "    SST = ((data[yname] - data[yname].mean())**2).sum()\n",
    "    SSR = ((data['yhat'] - data[yname].mean())**2).sum()\n",
    "    SSE = ((data[yname] - data['yhat'])**2).sum()\n",
    "    r2 = SSR/SST\n",
    "    adjustR2 = 1 - (1-r2)*(data.shape[0] - 1)/(data.shape[0] -model_k -1)\n",
    "    RMSE = (SSE/(data.shape[0] -model_k -1))**0.5\n",
    "    return adjustR2, RMSE\n",
    "#def defines function, return gives data of function"
   ]
  },
  {
   "cell_type": "code",
   "execution_count": 63,
   "metadata": {
    "collapsed": true,
    "jupyter": {
     "outputs_hidden": true
    }
   },
   "outputs": [],
   "source": [
    "# comparing rmse and r2 tests from train &test\n",
    "def assessTable(test, train, model, model_k, yname):\n",
    "    r2test, RMSEtest = adjustedMetric(test, model, model_k, yname)\n",
    "    r2train, RMSEtrain = adjustedMetric(train, model, model_k, yname)\n",
    "    assessment = pd.DataFrame(index=['R2', 'RMSE'], columns=['Train', 'Test'])\n",
    "    assessment['Train'] = [r2train, RMSEtrain]\n",
    "    assessment['Test'] = [r2test, RMSEtest]\n",
    "    return assessment"
   ]
  },
  {
   "cell_type": "code",
   "execution_count": 64,
   "metadata": {},
   "outputs": [
    {
     "data": {
      "text/html": [
       "<div>\n",
       "<table border=\"1\" class=\"dataframe\">\n",
       "  <thead>\n",
       "    <tr style=\"text-align: right;\">\n",
       "      <th></th>\n",
       "      <th>Train</th>\n",
       "      <th>Test</th>\n",
       "    </tr>\n",
       "  </thead>\n",
       "  <tbody>\n",
       "    <tr>\n",
       "      <th>R2</th>\n",
       "      <td>0.059020</td>\n",
       "      <td>0.067248</td>\n",
       "    </tr>\n",
       "    <tr>\n",
       "      <th>RMSE</th>\n",
       "      <td>1.226068</td>\n",
       "      <td>1.701291</td>\n",
       "    </tr>\n",
       "  </tbody>\n",
       "</table>\n",
       "</div>"
      ],
      "text/plain": [
       "         Train      Test\n",
       "R2    0.059020  0.067248\n",
       "RMSE  1.226068  1.701291"
      ]
     },
     "execution_count": 64,
     "metadata": {},
     "output_type": "execute_result"
    }
   ],
   "source": [
    "# Get the assement table for our model\n",
    "#compares train/test, want both to be similar\n",
    "assessTable(Test, Train, lm, 9, 'spy')"
   ]
  },
  {
   "cell_type": "markdown",
   "metadata": {},
   "source": [
    "#OVERFITTING: WHEN R2 AND RMSE LOOK much better in test than in train..for stock mkt r2 of 1.5% is not that bad"
   ]
  }
 ],
 "metadata": {
  "kernelspec": {
   "display_name": "Python 3",
   "language": "python",
   "name": "python3"
  },
  "language_info": {
   "codemirror_mode": {
    "name": "ipython",
    "version": 3
   },
   "file_extension": ".py",
   "mimetype": "text/x-python",
   "name": "python",
   "nbconvert_exporter": "python",
   "pygments_lexer": "ipython3",
   "version": "3.8.3"
  }
 },
 "nbformat": 4,
 "nbformat_minor": 4
}
